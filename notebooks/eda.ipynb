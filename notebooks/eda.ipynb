{
 "cells": [
  {
   "cell_type": "code",
   "execution_count": 49,
   "id": "e74bd461",
   "metadata": {},
   "outputs": [],
   "source": [
    "\n",
    "import matplotlib.pyplot as plt\n",
    "import numpy as np\n",
    "import pandas as pd\n",
    "import nltk\n",
    "from nltk.tokenize import word_tokenize\n",
    "from nltk.corpus import stopwords\n",
    "from sklearn.feature_extraction.text import TfidfVectorizer\n",
    "import matplotlib.pyplot as plt\n",
    "import seaborn as sns"
   ]
  },
  {
   "cell_type": "code",
   "execution_count": 50,
   "id": "2e20b739",
   "metadata": {},
   "outputs": [
    {
     "name": "stderr",
     "output_type": "stream",
     "text": [
      "[nltk_data] Downloading package punkt to\n",
      "[nltk_data]     C:\\Users\\Daniel.Temesgen\\AppData\\Roaming\\nltk_data...\n",
      "[nltk_data]   Unzipping tokenizers\\punkt.zip.\n",
      "[nltk_data] Downloading package stopwords to\n",
      "[nltk_data]     C:\\Users\\Daniel.Temesgen\\AppData\\Roaming\\nltk_data...\n",
      "[nltk_data]   Unzipping corpora\\stopwords.zip.\n"
     ]
    },
    {
     "data": {
      "text/plain": [
       "True"
      ]
     },
     "execution_count": 50,
     "metadata": {},
     "output_type": "execute_result"
    }
   ],
   "source": [
    "# Download NLTK data\n",
    "nltk.download('punkt')\n",
    "nltk.download('stopwords')"
   ]
  },
  {
   "cell_type": "code",
   "execution_count": 51,
   "id": "75f44a89",
   "metadata": {},
   "outputs": [],
   "source": [
    "import pandas as pd\n",
    "\n",
    "rating = pd.read_csv(r\"C:\\Users\\Daniel.Temesgen\\Desktop\\data\\raw_analyst_ratings.csv\")"
   ]
  },
  {
   "cell_type": "code",
   "execution_count": 52,
   "id": "3a28bc65",
   "metadata": {},
   "outputs": [
    {
     "data": {
      "text/plain": [
       "0                    Stocks That Hit 52-Week Highs On Friday\n",
       "1                 Stocks That Hit 52-Week Highs On Wednesday\n",
       "2                              71 Biggest Movers From Friday\n",
       "3               46 Stocks Moving In Friday's Mid-Day Session\n",
       "4          B of A Securities Maintains Neutral on Agilent...\n",
       "                                 ...                        \n",
       "1407323               Top Narrow Based Indexes For August 29\n",
       "1407324    Recap: Wednesday's Top Percentage Gainers and ...\n",
       "1407325    UPDATE: Oppenheimer Color on China Zenix Auto ...\n",
       "1407326    Oppenheimer Initiates China Zenix At Outperfor...\n",
       "1407327    China Zenix Auto International Opens For Tradi...\n",
       "Name: headline, Length: 1407328, dtype: object"
      ]
     },
     "execution_count": 52,
     "metadata": {},
     "output_type": "execute_result"
    }
   ],
   "source": [
    "rating['headline']"
   ]
  },
  {
   "cell_type": "markdown",
   "id": "9ac3a67a",
   "metadata": {},
   "source": [
    "def descriptive_statistics(rating):\n",
    "    \"\"\"Perform descriptive statistics on news data.\"\"\"\n",
    "    # Headline length analysis\n",
    "  "
   ]
  },
  {
   "cell_type": "code",
   "execution_count": 53,
   "id": "3bc33162",
   "metadata": {},
   "outputs": [
    {
     "name": "stdout",
     "output_type": "stream",
     "text": [
      "Headline Length Statistics:\n",
      "count    1.407328e+06\n",
      "mean     7.312051e+01\n",
      "std      4.073531e+01\n",
      "min      3.000000e+00\n",
      "25%      4.700000e+01\n",
      "50%      6.400000e+01\n",
      "75%      8.700000e+01\n",
      "max      5.120000e+02\n",
      "Name: headline_length, dtype: float64\n"
     ]
    }
   ],
   "source": [
    "    rating['headline_length'] = rating['headline'].str.len()\n",
    "    print(\"Headline Length Statistics:\")\n",
    "    print(rating['headline_length'].describe())"
   ]
  },
  {
   "cell_type": "markdown",
   "id": "db99aeb0",
   "metadata": {},
   "source": [
    " # Articles per publisher\n",
    "   "
   ]
  },
  {
   "cell_type": "code",
   "execution_count": 54,
   "id": "c7c9676d",
   "metadata": {},
   "outputs": [
    {
     "name": "stdout",
     "output_type": "stream",
     "text": [
      "\n",
      "Articles per Publisher:\n",
      "publisher\n",
      "Paul Quintaro        228373\n",
      "Lisa Levin           186979\n",
      "Benzinga Newsdesk    150484\n",
      "Charles Gross         96732\n",
      "Monica Gerson         82380\n",
      "Eddie Staley          57254\n",
      "Hal Lindon            49047\n",
      "ETF Professor         28489\n",
      "Juan Lopez            28438\n",
      "Benzinga Staff        28114\n",
      "Name: count, dtype: int64\n"
     ]
    }
   ],
   "source": [
    "\n",
    "    publisher_counts = rating['publisher'].value_counts()\n",
    "    print(\"\\nArticles per Publisher:\")\n",
    "    print(publisher_counts.head(10))"
   ]
  },
  {
   "cell_type": "markdown",
   "id": "817bb0b4",
   "metadata": {},
   "source": [
    "# Publication date trends\n",
    "    "
   ]
  },
  {
   "cell_type": "code",
   "execution_count": 55,
   "id": "c2a33063",
   "metadata": {},
   "outputs": [],
   "source": [
    "# Safely convert 'date' column\n",
    "rating['date'] = pd.to_datetime(rating['date'], errors='coerce')  # optional: 'coerce' turns bad values into NaT\n",
    "rating['day_of_week'] = rating['date'].dt.day_name()"
   ]
  },
  {
   "cell_type": "code",
   "execution_count": 56,
   "id": "3b131e0b",
   "metadata": {},
   "outputs": [],
   "source": [
    "# Group by date\n",
    "daily_counts = rating.groupby(rating['date'].dt.date).size()"
   ]
  },
  {
   "cell_type": "code",
   "execution_count": 58,
   "id": "b14b2b4d",
   "metadata": {},
   "outputs": [
    {
     "data": {
      "image/png": "[encoded data removed]",
      "text/plain": [
       "<Figure size 1000x600 with 1 Axes>"
      ]
     },
     "metadata": {},
     "output_type": "display_data"
    }
   ],
   "source": [
    "# Plotting\n",
    "import pandas as pd\n",
    "import matplotlib.pyplot as plt\n",
    "plt.figure(figsize=(10, 6))\n",
    "daily_counts.plot()\n",
    "plt.title('Article Publication Frequency Over Time')\n",
    "plt.xlabel('Date')\n",
    "plt.ylabel('Number of Articles')\n",
    "plt.savefig('publication_trend.png')\n",
    "plt.show()"
   ]
  },
  {
   "cell_type": "code",
   "execution_count": 59,
   "id": "a9513568",
   "metadata": {},
   "outputs": [],
   "source": [
    "def text_analysis(rating):\n",
    "    \"\"\"Perform topic modeling using TF-IDF.\"\"\"\n",
    "    stop_words = set(stopwords.words('english'))\n",
    "    vectorizer = TfidfVectorizer(stop_words=stop_words, max_features=1000)\n",
    "    tfidf_matrix = vectorizer.fit_transform(rating['headline'])\n",
    "    feature_names = vectorizer.get_feature_names_out()\n",
    "    top_terms = []\n",
    "    for i in range(tfidf_matrix.shape[0]):\n",
    "        row = tfidf_matrix[i].toarray()[0]\n",
    "        top_indices = row.argsort()[-5:][::-1]\n",
    "        top_terms.append([feature_names[idx] for idx in top_indices])\n",
    "    rating['top_terms'] = top_terms\n",
    "    print(\"\\nTop Terms per Headline (Sample):\")\n",
    "    print(rating[['headline', 'top_terms']].head())"
   ]
  },
  {
   "cell_type": "code",
   "execution_count": 60,
   "id": "15029495",
   "metadata": {},
   "outputs": [],
   "source": [
    "def publisher_analysis(rating):\n",
    "    \"\"\"Analyze publisher domains.\"\"\"\n",
    "    rating['domain'] = rating['publisher'].str.extract(r'@([\\w\\.-]+)')\n",
    "    domain_counts = df['domain'].value_counts()\n",
    "    print(\"\\nTop Publisher Domains:\")\n",
    "    print(domain_counts.head(10))\n",
    "    plt.figure(figsize=(10, 6))\n",
    "    sns.barplot(x=domain_counts.head(10).values, y=domain_counts.head(10).index)\n",
    "    plt.title('Top 10 Publisher Domains')\n",
    "    plt.xlabel('Number of Articles')\n",
    "    plt.savefig('publisher_domains.png')\n",
    "    plt.show()\n",
    "    \n",
    "   "
   ]
  },
  {
   "cell_type": "code",
   "execution_count": 61,
   "id": "600159f5",
   "metadata": {},
   "outputs": [],
   "source": [
    "import pandas as pd\n",
    "\n",
    "def load_data(file_path):\n",
    "    \"\"\"Load news data into a pandas DataFrame.\"\"\"\n",
    "    rating = pd.read_csv(r'C:\\Users\\Daniel.Temesgen\\Desktop\\data\\raw_analyst_ratings.csv'\n",
    ")\n",
    "    rating['date'] = pd.to_datetime(rating['date'], errors='coerce')  # Safely convert 'date'\n",
    "    return rating\n"
   ]
  },
  {
   "cell_type": "code",
   "execution_count": 62,
   "id": "7c4bc664",
   "metadata": {},
   "outputs": [
    {
     "name": "stdout",
     "output_type": "stream",
     "text": [
      "Descriptive Statistics:\n",
      "          Unnamed: 0                 headline  \\\n",
      "count   1.407328e+06                  1407328   \n",
      "unique           NaN                   845770   \n",
      "top              NaN  Benzinga's Top Upgrades   \n",
      "freq             NaN                     5449   \n",
      "mean    7.072454e+05                      NaN   \n",
      "min     0.000000e+00                      NaN   \n",
      "25%     3.538128e+05                      NaN   \n",
      "50%     7.072395e+05                      NaN   \n",
      "75%     1.060710e+06                      NaN   \n",
      "max     1.413848e+06                      NaN   \n",
      "std     4.081009e+05                      NaN   \n",
      "\n",
      "                                                      url      publisher  \\\n",
      "count                                             1407328        1407328   \n",
      "unique                                             883429           1034   \n",
      "top     https://www.benzinga.com/news/20/03/15538835/s...  Paul Quintaro   \n",
      "freq                                                 1704         228373   \n",
      "mean                                                  NaN            NaN   \n",
      "min                                                   NaN            NaN   \n",
      "25%                                                   NaN            NaN   \n",
      "50%                                                   NaN            NaN   \n",
      "75%                                                   NaN            NaN   \n",
      "max                                                   NaN            NaN   \n",
      "std                                                   NaN            NaN   \n",
      "\n",
      "                                       date    stock  \n",
      "count                                 55987  1407328  \n",
      "unique                                  NaN     6204  \n",
      "top                                     NaN      MRK  \n",
      "freq                                    NaN     3333  \n",
      "mean    2018-09-24 13:13:18.521924864-04:00      NaN  \n",
      "min               2011-04-27 21:01:48-04:00      NaN  \n",
      "25%        2017-06-14 23:40:07.500000-04:00      NaN  \n",
      "50%               2020-01-16 11:22:53-04:00      NaN  \n",
      "75%        2020-05-06 05:34:23.500000-04:00      NaN  \n",
      "max               2020-06-11 17:12:35-04:00      NaN  \n",
      "std                                     NaN      NaN  \n",
      "\n",
      "Missing Values:\n",
      "Unnamed: 0          0\n",
      "headline            0\n",
      "url                 0\n",
      "publisher           0\n",
      "date          1351341\n",
      "stock               0\n",
      "dtype: int64\n",
      "Text analysis placeholder\n",
      "Publisher analysis placeholder\n"
     ]
    }
   ],
   "source": [
    "import pandas as pd\n",
    "\n",
    "# Function to load data\n",
    "def load_data(file_path):\n",
    "    rating = pd.read_csv(file_path)  # ✅ Fixed here\n",
    "    rating['date'] = pd.to_datetime(rating['date'], errors='coerce')\n",
    "    return rating\n",
    "\n",
    "# Descriptive statistics\n",
    "def descriptive_statistics(rating):\n",
    "    print(\"Descriptive Statistics:\")\n",
    "    print(rating.describe(include='all'))\n",
    "    print(\"\\nMissing Values:\")\n",
    "    print(rating.isnull().sum())\n",
    "\n",
    "# Placeholder functions\n",
    "def text_analysis(rating):\n",
    "    print(\"Text analysis placeholder\")\n",
    "\n",
    "def publisher_analysis(rating):\n",
    "    print(\"Publisher analysis placeholder\")\n",
    "\n",
    "# Load and analyze\n",
    "rating = load_data(r'C:\\Users\\Daniel.Temesgen\\Desktop\\data\\raw_analyst_ratings.csv')\n",
    "descriptive_statistics(rating)\n",
    "text_analysis(rating)\n",
    "publisher_analysis(rating)\n"
   ]
  },
  {
   "cell_type": "code",
   "execution_count": null,
   "id": "da1a520e",
   "metadata": {},
   "outputs": [],
   "source": []
  }
 ],
 "metadata": {
  "kernelspec": {
   "display_name": "venv_wk1",
   "language": "python",
   "name": "python3"
  },
  "language_info": {
   "codemirror_mode": {
    "name": "ipython",
    "version": 3
   },
   "file_extension": ".py",
   "mimetype": "text/x-python",
   "name": "python",
   "nbconvert_exporter": "python",
   "pygments_lexer": "ipython3",
   "version": "3.13.2"
  }
 },
 "nbformat": 4,
 "nbformat_minor": 5
}
