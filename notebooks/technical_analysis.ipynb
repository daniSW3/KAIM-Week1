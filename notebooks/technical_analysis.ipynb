{
 "cells": [
  {
   "cell_type": "code",
   "execution_count": null,
   "id": "c9ea3f5b",
   "metadata": {},
   "outputs": [],
   "source": [
    "import pandas as pd\n",
    "import talib\n",
    "import pynance as pn\n",
    "import matplotlib.pyplot as plt"
   ]
  },
  {
   "cell_type": "code",
   "execution_count": null,
   "id": "d881118b",
   "metadata": {},
   "outputs": [],
   "source": [
    "def load_stock_data(file_path):\n",
    "    \"\"\"Load stock price data into a pandas DataFrame.\"\"\"\n",
    "    df = pd.read_csv(r\"C:\\Users\\Daniel.Temesgen\\Desktop\\data\\TSLA_historical_data.csv\")\n",
    "    df['Date'] = pd.to_datetime(df['Date'])\n",
    "    df.set_index('Date', inplace=True)\n",
    "    return df"
   ]
  },
  {
   "cell_type": "code",
   "execution_count": null,
   "id": "6a2ff7ea",
   "metadata": {},
   "outputs": [],
   "source": [
    "df.head()"
   ]
  },
  {
   "cell_type": "code",
   "execution_count": null,
   "id": "6fb4426c",
   "metadata": {},
   "outputs": [],
   "source": [
    "def calculate_technical_indicators(df):\n",
    "    \"\"\"Calculate technical indicators using TA-Lib.\"\"\"\n",
    "    # Simple Moving Average (SMA)\n",
    "    df['SMA_20'] = talib.SMA(df['Close'], timeperiod=20)\n",
    "    # Relative Strength Index (RSI)\n",
    "    df['RSI'] = talib.RSI(df['Close'], timeperiod=14)\n",
    "    # Moving Average Convergence Divergence (MACD)\n",
    "    df['MACD'], df['MACD_Signal'], df['MACD_Hist'] = talib.MACD(df['Close'], fastperiod=12, slowperiod=26, signalperiod=9)\n",
    "    return df"
   ]
  },
  {
   "cell_type": "code",
   "execution_count": null,
   "id": "6148a4a8",
   "metadata": {},
   "outputs": [],
   "source": [
    "def calculate_financial_metrics(df):\n",
    "    \"\"\"Calculate financial metrics using PyNance.\"\"\"\n",
    "    returns = pn.data.returns(df['Close'])\n",
    "    volatility = pn.stats.volatility(df['Close'])\n",
    "    print(f\"Annualized Volatility: {volatility:.4f}\")\n",
    "    return returns\n"
   ]
  },
  {
   "cell_type": "code",
   "execution_count": null,
   "id": "7c6e8af7",
   "metadata": {},
   "outputs": [],
   "source": [
    "def visualize_data(df):\n",
    "    \"\"\"Visualize stock price and technical indicators.\"\"\"\n",
    "    plt.figure(figsize=(12, 8))\n",
    "    "
   ]
  },
  {
   "cell_type": "code",
   "execution_count": null,
   "id": "7ee863df",
   "metadata": {},
   "outputs": [],
   "source": [
    " # Plot Close Price and SMA\n",
    "    plt.subplot(3, 1, 1)\n",
    "    plt.plot(df.index, df['Close'], label='Close Price')\n",
    "    plt.plot(df.index, df['SMA_20'], label='20-day SMA')\n",
    "    plt.title('Stock Price and SMA')\n",
    "    plt.legend()"
   ]
  },
  {
   "cell_type": "code",
   "execution_count": null,
   "id": "ac3c2a31",
   "metadata": {},
   "outputs": [],
   "source": [
    "# Plot RSI\n",
    "    plt.subplot(3, 1, 2)\n",
    "    plt.plot(df.index, df['RSI'], label='RSI', color='purple')\n",
    "    plt.axhline(70, linestyle='--', alpha=0.5, color='red')\n",
    "    plt.axhline(30, linestyle='--', alpha=0.5, color='green')\n",
    "    plt.title('Relative Strength Index (RSI)')\n",
    "    plt.legend()"
   ]
  },
  {
   "cell_type": "code",
   "execution_count": null,
   "id": "45b94345",
   "metadata": {},
   "outputs": [],
   "source": [
    "# Plot MACD\n",
    "    plt.subplot(3, 1, 3)\n",
    "    plt.plot(df.index, df['MACD'], label='MACD', color='blue')\n",
    "    plt.plot(df.index, df['MACD_Signal'], label='Signal Line', color='orange')\n",
    "    plt.bar(df.index, df['MACD_Hist'], label='MACD Histogram', color='grey', alpha=0.3)\n",
    "    plt.title('MACD')\n",
    "    plt.legend()"
   ]
  },
  {
   "cell_type": "code",
   "execution_count": null,
   "id": "6fc902f9",
   "metadata": {},
   "outputs": [],
   "source": [
    "    plt.tight_layout()\n",
    "    plt.savefig('technical_indicators.png')\n",
    "    plt.close()"
   ]
  }
 ],
 "metadata": {
  "language_info": {
   "name": "python"
  }
 },
 "nbformat": 4,
 "nbformat_minor": 5
}
